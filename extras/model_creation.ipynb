{
 "cells": [
  {
   "cell_type": "code",
   "execution_count": 1,
   "metadata": {},
   "outputs": [],
   "source": [
    "import numpy as np\n",
    "import pandas as pd\n",
    "from sklearn.preprocessing import StandardScaler\n",
    "from sklearn.model_selection import train_test_split"
   ]
  },
  {
   "cell_type": "code",
   "execution_count": 2,
   "metadata": {},
   "outputs": [],
   "source": [
    "data = pd.read_csv(\"Activity_Training_Data.csv\")"
   ]
  },
  {
   "cell_type": "code",
   "execution_count": 3,
   "metadata": {},
   "outputs": [
    {
     "data": {
      "text/plain": [
       "(7352, 232)"
      ]
     },
     "execution_count": 3,
     "metadata": {},
     "output_type": "execute_result"
    }
   ],
   "source": [
    "data.shape"
   ]
  },
  {
   "cell_type": "code",
   "execution_count": 4,
   "metadata": {},
   "outputs": [],
   "source": [
    "#data"
   ]
  },
  {
   "cell_type": "code",
   "execution_count": 5,
   "metadata": {},
   "outputs": [],
   "source": [
    "x = data.iloc[:, 0:231].values\n",
    "y = data[\"Activity\"].values\n",
    "#x, y"
   ]
  },
  {
   "cell_type": "code",
   "execution_count": 6,
   "metadata": {},
   "outputs": [],
   "source": [
    "#y[y == 2] = 4\n",
    "#y[y == 1] = 3\n",
    "#y[y == 0] = 2"
   ]
  },
  {
   "cell_type": "code",
   "execution_count": 7,
   "metadata": {},
   "outputs": [
    {
     "data": {
      "text/plain": [
       "{0: 2693, 1: 2600, 2: 2059}"
      ]
     },
     "execution_count": 7,
     "metadata": {},
     "output_type": "execute_result"
    }
   ],
   "source": [
    "unique, counts = np.unique(y, return_counts=True) \n",
    "dict(zip(unique, counts))"
   ]
  },
  {
   "cell_type": "code",
   "execution_count": 8,
   "metadata": {},
   "outputs": [],
   "source": [
    "z = np.zeros(shape = (7352, 3))"
   ]
  },
  {
   "cell_type": "code",
   "execution_count": 9,
   "metadata": {},
   "outputs": [],
   "source": [
    "pos = 0\n",
    "for i in y:\n",
    "    if (i == 0):\n",
    "        z[pos] = [1,0,0]\n",
    "    elif (i == 1):\n",
    "        z[pos] = [0,1,0]\n",
    "    else:\n",
    "        z[pos] = [0,0,1]\n",
    "    pos = pos+1"
   ]
  },
  {
   "cell_type": "code",
   "execution_count": 10,
   "metadata": {},
   "outputs": [],
   "source": [
    "y = z"
   ]
  },
  {
   "cell_type": "code",
   "execution_count": 11,
   "metadata": {},
   "outputs": [],
   "source": [
    "#xtrain, xtest, ytrain, ytest = train_test_split(x, y, test_size=0.2)\n",
    "#len(xtrain), len(ytrain)"
   ]
  },
  {
   "cell_type": "code",
   "execution_count": 12,
   "metadata": {},
   "outputs": [],
   "source": [
    "#sc = StandardScaler()"
   ]
  },
  {
   "cell_type": "code",
   "execution_count": 13,
   "metadata": {},
   "outputs": [],
   "source": [
    "#ytrain = ytrain.reshape(-1, 1)\n",
    "#ytest = ytest.reshape(1, -1)\n",
    "\n",
    "#xtrain = sc.fit_transform(xtrain)\n",
    "#xtest = sc.fit_transform(xtest)\n",
    "#ytrain = sc.fit_transform(ytrain)\n",
    "#ytest = sc.fit_transform(ytest)\n",
    "\n"
   ]
  },
  {
   "cell_type": "code",
   "execution_count": 14,
   "metadata": {},
   "outputs": [
    {
     "name": "stderr",
     "output_type": "stream",
     "text": [
      "Using TensorFlow backend.\n"
     ]
    }
   ],
   "source": [
    "from keras.models import Sequential\n",
    "from keras.layers import Dense\n",
    "import pickle"
   ]
  },
  {
   "cell_type": "code",
   "execution_count": 15,
   "metadata": {},
   "outputs": [
    {
     "name": "stdout",
     "output_type": "stream",
     "text": [
      "Epoch 1/10\n",
      "7352/7352 [==============================] - 2s 218us/step - loss: 0.0648 - accuracy: 0.8719\n",
      "Epoch 2/10\n",
      "7352/7352 [==============================] - 1s 167us/step - loss: 0.0350 - accuracy: 0.9331\n",
      "Epoch 3/10\n",
      "7352/7352 [==============================] - 1s 167us/step - loss: 0.0303 - accuracy: 0.9410\n",
      "Epoch 4/10\n",
      "7352/7352 [==============================] - 1s 167us/step - loss: 0.0278 - accuracy: 0.9467\n",
      "Epoch 5/10\n",
      "7352/7352 [==============================] - 1s 170us/step - loss: 0.0256 - accuracy: 0.9504\n",
      "Epoch 6/10\n",
      "7352/7352 [==============================] - 1s 167us/step - loss: 0.0237 - accuracy: 0.9540\n",
      "Epoch 7/10\n",
      "7352/7352 [==============================] - 1s 189us/step - loss: 0.0226 - accuracy: 0.9569\n",
      "Epoch 8/10\n",
      "7352/7352 [==============================] - 1s 175us/step - loss: 0.0217 - accuracy: 0.9596\n",
      "Epoch 9/10\n",
      "7352/7352 [==============================] - 1s 171us/step - loss: 0.0211 - accuracy: 0.9614\n",
      "Epoch 10/10\n",
      "7352/7352 [==============================] - 1s 168us/step - loss: 0.0217 - accuracy: 0.9591\n"
     ]
    },
    {
     "data": {
      "text/plain": [
       "<keras.callbacks.callbacks.History at 0x7fe0ba0379b0>"
      ]
     },
     "execution_count": 15,
     "metadata": {},
     "output_type": "execute_result"
    }
   ],
   "source": [
    "#classifier_model = Sequential()\n",
    "#classifier_model.add(Dense(input_dim = 231, units = 150, kernel_initializer = 'RandomNormal', activation = 'elu'))\n",
    "#classifier_model.add(Dense(units = 100, kernel_initializer = 'RandomNormal', activation = 'elu'))\n",
    "#classifier_model.add(Dense(units = 50, kernel_initializer = 'RandomNormal', activation = 'elu'))\n",
    "#classifier_model.add(Dense(units = 3, kernel_initializer = 'RandomNormal', activation = 'elu'))\n",
    "\n",
    "#classifier_model.compile(optimizer = 'nadam', loss = 'mean_squared_error', metrics = ['accuracy'])\n",
    "#classifier_model.fit(x, y, batch_size = 10, epochs = 10)"
   ]
  },
  {
   "cell_type": "code",
   "execution_count": 16,
   "metadata": {},
   "outputs": [],
   "source": [
    "#saved_model = open('Activity.pickle', 'wb')\n",
    "#pickle.dump(classifier_model, saved_model)"
   ]
  },
  {
   "cell_type": "code",
   "execution_count": 25,
   "metadata": {},
   "outputs": [],
   "source": [
    "saved_model = open('Activity.pickle', 'rb')\n",
    "classifier_model = pickle.load(saved_model)"
   ]
  },
  {
   "cell_type": "code",
   "execution_count": 26,
   "metadata": {},
   "outputs": [],
   "source": [
    "test_data = pd.read_csv(\"Activity_Training_Data.csv\")"
   ]
  },
  {
   "cell_type": "code",
   "execution_count": 27,
   "metadata": {},
   "outputs": [
    {
     "data": {
      "text/plain": [
       "(7352, 232)"
      ]
     },
     "execution_count": 27,
     "metadata": {},
     "output_type": "execute_result"
    }
   ],
   "source": [
    "test_data.shape"
   ]
  },
  {
   "cell_type": "code",
   "execution_count": 28,
   "metadata": {},
   "outputs": [],
   "source": [
    "d = test_data.iloc[:, 0:231]"
   ]
  },
  {
   "cell_type": "code",
   "execution_count": 29,
   "metadata": {},
   "outputs": [
    {
     "data": {
      "text/plain": [
       "(7352, 231)"
      ]
     },
     "execution_count": 29,
     "metadata": {},
     "output_type": "execute_result"
    }
   ],
   "source": [
    "d.shape"
   ]
  },
  {
   "cell_type": "code",
   "execution_count": 30,
   "metadata": {},
   "outputs": [
    {
     "data": {
      "text/plain": [
       "array([1, 1, 1, ..., 2, 2, 2])"
      ]
     },
     "execution_count": 30,
     "metadata": {},
     "output_type": "execute_result"
    }
   ],
   "source": [
    "predictions = classifier_model.predict_classes(d)\n",
    "predictions"
   ]
  },
  {
   "cell_type": "code",
   "execution_count": 34,
   "metadata": {},
   "outputs": [],
   "source": [
    "#for i in predictions:\n",
    "#    print(i)"
   ]
  },
  {
   "cell_type": "code",
   "execution_count": 35,
   "metadata": {},
   "outputs": [
    {
     "data": {
      "text/plain": [
       "{0: 2910, 1: 2385, 2: 2057}"
      ]
     },
     "execution_count": 35,
     "metadata": {},
     "output_type": "execute_result"
    }
   ],
   "source": [
    "unique, counts = np.unique(predictions, return_counts=True) \n",
    "dict(zip(unique, counts))"
   ]
  },
  {
   "cell_type": "code",
   "execution_count": null,
   "metadata": {},
   "outputs": [],
   "source": []
  }
 ],
 "metadata": {
  "kernelspec": {
   "display_name": "Python 3",
   "language": "python",
   "name": "python3"
  },
  "language_info": {
   "codemirror_mode": {
    "name": "ipython",
    "version": 3
   },
   "file_extension": ".py",
   "mimetype": "text/x-python",
   "name": "python",
   "nbconvert_exporter": "python",
   "pygments_lexer": "ipython3",
   "version": "3.7.3"
  }
 },
 "nbformat": 4,
 "nbformat_minor": 2
}
