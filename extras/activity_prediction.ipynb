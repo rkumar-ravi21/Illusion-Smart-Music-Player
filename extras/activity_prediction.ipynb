{
 "cells": [
  {
   "cell_type": "code",
   "execution_count": 1,
   "metadata": {},
   "outputs": [],
   "source": [
    "import numpy as np\n",
    "import pandas as pd\n",
    "import pickle\n",
    "\n",
    "from scipy.stats import median_absolute_deviation\n",
    "from scipy.stats import iqr\n",
    "from scipy.stats import entropy"
   ]
  },
  {
   "cell_type": "code",
   "execution_count": 2,
   "metadata": {},
   "outputs": [],
   "source": [
    "data = pd.read_csv(\"accelerometer.csv\")"
   ]
  },
  {
   "cell_type": "code",
   "execution_count": 3,
   "metadata": {},
   "outputs": [
    {
     "data": {
      "text/plain": [
       "(431, 9)"
      ]
     },
     "execution_count": 3,
     "metadata": {},
     "output_type": "execute_result"
    }
   ],
   "source": [
    "data.shape"
   ]
  },
  {
   "cell_type": "code",
   "execution_count": 4,
   "metadata": {},
   "outputs": [],
   "source": [
    "#jerk values"
   ]
  },
  {
   "cell_type": "code",
   "execution_count": 5,
   "metadata": {},
   "outputs": [],
   "source": [
    "d = data.iloc[:, 0:1].values\n",
    "l = []\n",
    "for i in range( 1, len(d) ):\n",
    "    x = d[i-1] - d[i] #abs(d[i-1] - d[i])\n",
    "    l.append(x[0])\n",
    "l.append(0.0)\n",
    "data[\"body_acc_jerk_x\"] = l"
   ]
  },
  {
   "cell_type": "code",
   "execution_count": 6,
   "metadata": {
    "scrolled": true
   },
   "outputs": [],
   "source": [
    "d = data.iloc[:, 1:2].values\n",
    "l = []\n",
    "for i in range( 1, len(d) ):\n",
    "    x = d[i-1] - d[i] #abs(d[i-1] - d[i])\n",
    "    l.append(x[0])\n",
    "l.append(0.0)\n",
    "data[\"body_acc_jerk_y\"] = l"
   ]
  },
  {
   "cell_type": "code",
   "execution_count": 7,
   "metadata": {},
   "outputs": [],
   "source": [
    "d = data.iloc[:, 2:3].values\n",
    "l = []\n",
    "for i in range( 1, len(d) ):\n",
    "    x = d[i-1] - d[i] #abs(d[i-1] - d[i])\n",
    "    l.append(x[0])\n",
    "l.append(0.0)\n",
    "data[\"body_acc_jerk_z\"] = l"
   ]
  },
  {
   "cell_type": "code",
   "execution_count": 8,
   "metadata": {},
   "outputs": [],
   "source": [
    "d = data.iloc[:, 6:7].values\n",
    "l = []\n",
    "for i in range( 1, len(d) ):\n",
    "    x = d[i-1] - d[i] #abs(d[i-1] - d[i])\n",
    "    l.append(x[0])\n",
    "l.append(0.0)\n",
    "data[\"body_gyro_jerk_x\"] = l"
   ]
  },
  {
   "cell_type": "code",
   "execution_count": 9,
   "metadata": {},
   "outputs": [],
   "source": [
    "d = data.iloc[:, 7:8].values\n",
    "l = []\n",
    "for i in range( 1, len(d) ):\n",
    "    x = d[i-1] - d[i] #abs(d[i-1] - d[i])\n",
    "    l.append(x[0])\n",
    "l.append(0.0)\n",
    "data[\"body_gyro_jerk_y\"] = l"
   ]
  },
  {
   "cell_type": "code",
   "execution_count": 10,
   "metadata": {},
   "outputs": [],
   "source": [
    "d = data.iloc[:, 8:9].values\n",
    "l = []\n",
    "for i in range( 1, len(d) ):\n",
    "    x = d[i-1] - d[i] #abs(d[i-1] - d[i])\n",
    "    l.append(x[0])\n",
    "l.append(0.0)\n",
    "data[\"body_gyro_jerk_z\"] = l"
   ]
  },
  {
   "cell_type": "code",
   "execution_count": 11,
   "metadata": {},
   "outputs": [],
   "source": [
    "#magnitude values"
   ]
  },
  {
   "cell_type": "code",
   "execution_count": 12,
   "metadata": {},
   "outputs": [],
   "source": [
    "d = data.iloc[:, 0:3].values\n",
    "lem = d.shape\n",
    "lem = lem[0]\n",
    "l = []\n",
    "for i in range(lem):\n",
    "    x = d[i]\n",
    "    l.append( np.linalg.norm(x) )\n",
    "data[\"body_acc_mag\"] = l"
   ]
  },
  {
   "cell_type": "code",
   "execution_count": 13,
   "metadata": {},
   "outputs": [],
   "source": [
    "d = data.iloc[:, 3:6].values\n",
    "lem = d.shape\n",
    "lem = lem[0]\n",
    "l = []\n",
    "for i in range(lem):\n",
    "    x = d[i]\n",
    "    l.append( np.linalg.norm(x) )\n",
    "data[\"gravity_acc_mag\"] = l"
   ]
  },
  {
   "cell_type": "code",
   "execution_count": 14,
   "metadata": {},
   "outputs": [],
   "source": [
    "d = data.iloc[:, 6:9].values\n",
    "lem = d.shape\n",
    "lem = lem[0]\n",
    "l = []\n",
    "for i in range(lem):\n",
    "    x = d[i]\n",
    "    l.append( np.linalg.norm(x) )\n",
    "data[\"body_gyro_mag\"] = l"
   ]
  },
  {
   "cell_type": "code",
   "execution_count": 15,
   "metadata": {},
   "outputs": [],
   "source": [
    "d = data.iloc[:, 9:12].values\n",
    "lem = d.shape\n",
    "lem = lem[0]\n",
    "l = []\n",
    "for i in range(lem):\n",
    "    x = d[i]\n",
    "    l.append( np.linalg.norm(x) )\n",
    "data[\"body_acc_jerk_mag\"] = l"
   ]
  },
  {
   "cell_type": "code",
   "execution_count": 16,
   "metadata": {},
   "outputs": [],
   "source": [
    "d = data.iloc[:, 12:15].values\n",
    "lem = d.shape\n",
    "lem = lem[0]\n",
    "l = []\n",
    "for i in range(lem):\n",
    "    x = d[i]\n",
    "    l.append( np.linalg.norm(x) )\n",
    "data[\"body_gyro_jerk_mag\"] = l"
   ]
  },
  {
   "cell_type": "code",
   "execution_count": 17,
   "metadata": {},
   "outputs": [],
   "source": [
    "#frequency domain values"
   ]
  },
  {
   "cell_type": "code",
   "execution_count": 18,
   "metadata": {},
   "outputs": [],
   "source": [
    "d = data.iloc[:, 0:1].values\n",
    "l = []\n",
    "x = np.fft.fft(d)\n",
    "for i in x:\n",
    "    y = i[0]\n",
    "    l.append(y.real)\n",
    "data[\"f_body_acc_x\"] = l"
   ]
  },
  {
   "cell_type": "code",
   "execution_count": 19,
   "metadata": {},
   "outputs": [],
   "source": [
    "d = data.iloc[:, 1:2].values\n",
    "l = []\n",
    "x = np.fft.fft(d)\n",
    "for i in x:\n",
    "    y = i[0]\n",
    "    l.append(y.real)\n",
    "data[\"f_body_acc_y\"] = l"
   ]
  },
  {
   "cell_type": "code",
   "execution_count": 20,
   "metadata": {},
   "outputs": [],
   "source": [
    "d = data.iloc[:, 2:3].values\n",
    "l = []\n",
    "x = np.fft.fft(d)\n",
    "for i in x:\n",
    "    y = i[0]\n",
    "    l.append(y.real)\n",
    "data[\"f_body_acc_z\"] = l"
   ]
  },
  {
   "cell_type": "code",
   "execution_count": 21,
   "metadata": {},
   "outputs": [],
   "source": [
    "d = data.iloc[:, 6:7].values\n",
    "l = []\n",
    "x = np.fft.fft(d)\n",
    "for i in x:\n",
    "    y = i[0]\n",
    "    l.append(y.real)\n",
    "data[\"f_body_gyro_x\"] = l"
   ]
  },
  {
   "cell_type": "code",
   "execution_count": 22,
   "metadata": {},
   "outputs": [],
   "source": [
    "d = data.iloc[:, 7:8].values\n",
    "l = []\n",
    "x = np.fft.fft(d)\n",
    "for i in x:\n",
    "    y = i[0]\n",
    "    l.append(y.real)\n",
    "data[\"f_body_gyro_y\"] = l"
   ]
  },
  {
   "cell_type": "code",
   "execution_count": 23,
   "metadata": {},
   "outputs": [],
   "source": [
    "d = data.iloc[:, 8:9].values\n",
    "l = []\n",
    "x = np.fft.fft(d)\n",
    "for i in x:\n",
    "    y = i[0]\n",
    "    l.append(y.real)\n",
    "data[\"f_body_gyro_z\"] = l"
   ]
  },
  {
   "cell_type": "code",
   "execution_count": 24,
   "metadata": {},
   "outputs": [],
   "source": [
    "d = data.iloc[:, 9:10].values\n",
    "l = []\n",
    "x = np.fft.fft(d)\n",
    "for i in x:\n",
    "    y = i[0]\n",
    "    l.append(y.real)\n",
    "data[\"f_body_acc_jerk_x\"] = l"
   ]
  },
  {
   "cell_type": "code",
   "execution_count": 25,
   "metadata": {},
   "outputs": [],
   "source": [
    "d = data.iloc[:, 10:11].values\n",
    "l = []\n",
    "x = np.fft.fft(d)\n",
    "for i in x:\n",
    "    y = i[0]\n",
    "    l.append(y.real)\n",
    "data[\"f_body_acc_jerk_y\"] = l"
   ]
  },
  {
   "cell_type": "code",
   "execution_count": 26,
   "metadata": {},
   "outputs": [],
   "source": [
    "d = data.iloc[:, 11:12].values\n",
    "l = []\n",
    "x = np.fft.fft(d)\n",
    "for i in x:\n",
    "    y = i[0]\n",
    "    l.append(y.real)\n",
    "data[\"f_body_acc_jerk_z\"] = l"
   ]
  },
  {
   "cell_type": "code",
   "execution_count": 27,
   "metadata": {},
   "outputs": [],
   "source": [
    "d = data.iloc[:, 15:16].values\n",
    "l = []\n",
    "x = np.fft.fft(d)\n",
    "for i in x:\n",
    "    y = i[0]\n",
    "    l.append(y.real)\n",
    "data[\"f_body_acc_mag\"] = l"
   ]
  },
  {
   "cell_type": "code",
   "execution_count": 28,
   "metadata": {},
   "outputs": [],
   "source": [
    "d = data.iloc[:, 17:18].values\n",
    "l = []\n",
    "x = np.fft.fft(d)\n",
    "for i in x:\n",
    "    y = i[0]\n",
    "    l.append(y.real)\n",
    "data[\"f_body_gyro_mag\"] = l"
   ]
  },
  {
   "cell_type": "code",
   "execution_count": 29,
   "metadata": {},
   "outputs": [],
   "source": [
    "d = data.iloc[:, 18:19].values\n",
    "l = []\n",
    "x = np.fft.fft(d)\n",
    "for i in x:\n",
    "    y = i[0]\n",
    "    l.append(y.real)\n",
    "data[\"f_body_acc_jerk_mag\"] = l"
   ]
  },
  {
   "cell_type": "code",
   "execution_count": 30,
   "metadata": {},
   "outputs": [],
   "source": [
    "d = data.iloc[:, 19:20].values\n",
    "l = []\n",
    "x = np.fft.fft(d)\n",
    "for i in x:\n",
    "    y = i[0]\n",
    "    l.append(y.real)\n",
    "data[\"f_body_gyro_jerk_mag\"] = l"
   ]
  },
  {
   "cell_type": "code",
   "execution_count": 31,
   "metadata": {},
   "outputs": [
    {
     "data": {
      "text/plain": [
       "(431, 33)"
      ]
     },
     "execution_count": 31,
     "metadata": {},
     "output_type": "execute_result"
    }
   ],
   "source": [
    "data.shape"
   ]
  },
  {
   "cell_type": "code",
   "execution_count": 32,
   "metadata": {},
   "outputs": [],
   "source": [
    "#creating list for predicting\n",
    "#data"
   ]
  },
  {
   "cell_type": "code",
   "execution_count": 33,
   "metadata": {},
   "outputs": [],
   "source": [
    "l = []\n",
    "lem = data.shape\n",
    "lem = lem[1]\n",
    "for i in range(lem):\n",
    "    x = data.iloc[:, i:i+1].values\n",
    "    l.append( np.mean(x) )\n",
    "    l.append( np.std(x) )\n",
    "    y = median_absolute_deviation(x)\n",
    "    l.append( y[0] )\n",
    "    l.append( np.amax(x) )\n",
    "    l.append( np.amin(x) )\n",
    "    l.append( iqr(x) )\n",
    "    y = np.absolute(x)\n",
    "    y = entropy(y)\n",
    "    l.append( y[0] )"
   ]
  },
  {
   "cell_type": "code",
   "execution_count": 34,
   "metadata": {},
   "outputs": [
    {
     "data": {
      "text/plain": [
       "231"
      ]
     },
     "execution_count": 34,
     "metadata": {},
     "output_type": "execute_result"
    }
   ],
   "source": [
    "len(l)"
   ]
  },
  {
   "cell_type": "code",
   "execution_count": 35,
   "metadata": {},
   "outputs": [
    {
     "name": "stderr",
     "output_type": "stream",
     "text": [
      "Using TensorFlow backend.\n"
     ]
    }
   ],
   "source": [
    "saved_model = open('Activity.pickle', 'rb')\n",
    "classifier_model = pickle.load(saved_model)"
   ]
  },
  {
   "cell_type": "code",
   "execution_count": 36,
   "metadata": {},
   "outputs": [],
   "source": [
    "test_data = np.asarray(l)"
   ]
  },
  {
   "cell_type": "code",
   "execution_count": 37,
   "metadata": {},
   "outputs": [],
   "source": [
    "test_data = np.reshape(test_data, (1,-1))"
   ]
  },
  {
   "cell_type": "code",
   "execution_count": 38,
   "metadata": {
    "scrolled": true
   },
   "outputs": [
    {
     "data": {
      "text/plain": [
       "(1, 231)"
      ]
     },
     "execution_count": 38,
     "metadata": {},
     "output_type": "execute_result"
    }
   ],
   "source": [
    "test_data.shape"
   ]
  },
  {
   "cell_type": "code",
   "execution_count": 39,
   "metadata": {},
   "outputs": [],
   "source": [
    "predictions = classifier_model.predict_classes(test_data)"
   ]
  },
  {
   "cell_type": "code",
   "execution_count": null,
   "metadata": {},
   "outputs": [],
   "source": []
  },
  {
   "cell_type": "code",
   "execution_count": 40,
   "metadata": {},
   "outputs": [],
   "source": [
    "x = predictions[0]\n",
    "#for i in predictions:\n",
    "#    x = i[0]"
   ]
  },
  {
   "cell_type": "code",
   "execution_count": 41,
   "metadata": {},
   "outputs": [
    {
     "data": {
      "text/plain": [
       "0"
      ]
     },
     "execution_count": 41,
     "metadata": {},
     "output_type": "execute_result"
    }
   ],
   "source": [
    "x"
   ]
  },
  {
   "cell_type": "code",
   "execution_count": 42,
   "metadata": {},
   "outputs": [],
   "source": [
    "f = open(\"activity_number.txt\", \"w\")\n",
    "f.write(str(x))\n",
    "f.close()"
   ]
  }
 ],
 "metadata": {
  "kernelspec": {
   "display_name": "Python 3",
   "language": "python",
   "name": "python3"
  },
  "language_info": {
   "codemirror_mode": {
    "name": "ipython",
    "version": 3
   },
   "file_extension": ".py",
   "mimetype": "text/x-python",
   "name": "python",
   "nbconvert_exporter": "python",
   "pygments_lexer": "ipython3",
   "version": "3.7.3"
  }
 },
 "nbformat": 4,
 "nbformat_minor": 2
}
